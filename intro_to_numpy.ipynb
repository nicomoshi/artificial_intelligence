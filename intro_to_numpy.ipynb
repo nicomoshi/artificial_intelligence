{
  "nbformat": 4,
  "nbformat_minor": 0,
  "metadata": {
    "kernelspec": {
      "display_name": "Python 3",
      "language": "python",
      "name": "python3"
    },
    "language_info": {
      "codemirror_mode": {
        "name": "ipython",
        "version": 3
      },
      "file_extension": ".py",
      "mimetype": "text/x-python",
      "name": "python",
      "nbconvert_exporter": "python",
      "pygments_lexer": "ipython3",
      "version": "3.6.5"
    },
    "colab": {
      "name": "Intro to Numpy.ipynb",
      "provenance": [],
      "collapsed_sections": []
    }
  },
  "cells": [
    {
      "cell_type": "markdown",
      "metadata": {
        "id": "dw0YC1VhTrQe",
        "colab_type": "text"
      },
      "source": [
        "# Introduction to Numpy\n",
        "\n",
        "## 1. Introduction\n",
        "The purpose of this notebook is to introduce you to numpy, which is a numerical computing package that is commonly used in AI applications. Numpy leverages libraries written in C (and sometimes FORTRAN) to do very fast (and accurate!) computation for simulations, optimization, and anything requiring large matrix operations. This is important, because many operations in machine learning and AI are actually matrix or vector operations (e.g. an image is an array of pixel values denoting the colour).\n",
        "\n",
        "In this notebook, we will cover the following basics:\n",
        "\n",
        "1. Working with numpy arrays, and giving students an understanding *vectorized* programming (i.e. multiprocessing);\n",
        "2. Slicing and indexing in numpy (and the distinction between numpy, and slicing and indexing operations in basic Python!);\n",
        "3. Performing basic operations on arrays;\n",
        "4. Applying these operations to do basic tasks.\n",
        "\n",
        "For now, the important outcomes are that you:\n",
        "\n",
        "1. Know how to create and do operations with numpy arrays (including using some basic numpy functions);\n",
        "2. Know how to slice arrays to manipulate data; and,\n",
        "3. Can combine these skills to perform basic tasks.\n",
        "\n",
        "It's difficult to cover the full functionality of numpy without also covering a few basics of matrices, so along with the above, we will briefly cover some introductory linear algebra (the math of matrices).\n",
        "\n",
        "## 2. Importing Numpy\n",
        "As covered in the lecture slides, we have multiple ways of importing numpy so that we can work with it, which will be covered in the sections below.\n",
        "\n",
        "### 2.1 Import Numpy Directly\n",
        "We would do this using:\n",
        "\n",
        "<code>\n",
        "    import numpy\n",
        "</code>\n",
        "    \n",
        "In which we import the module directly, and would initialize an array using (as a quick example):\n",
        "\n",
        "<code>\n",
        "    A = numpy.array([1, 2, 3])\n",
        "</code>\n",
        "\n",
        "### 2.2 Assigning a Name to Numpy\n",
        "This is the same as above, with the exception that we give it a convenient name so that we can work with it:\n",
        "\n",
        "<code>\n",
        "    import numpy as np\n",
        "</code>\n",
        "    \n",
        "In which we import the module directly, and would initialize an array using (as a quick example):\n",
        "\n",
        "<code>\n",
        "    A = np.array([1, 2, 3])\n",
        "</code>\n",
        "\n",
        "### 2.3 Importing Directly Into the Namespace\n",
        "Here, we import all classes, functions, and variables in the numpy module directly into our namespace to work with them. We do this using:\n",
        "\n",
        "<code>\n",
        "    from numpy import *\n",
        "</code>\n",
        "\n",
        "When we do this, we can initialize an array using:\n",
        "\n",
        "<code>\n",
        "    A = array([1, 2, 3])\n",
        "</code>\n",
        "\n",
        "### 2.4 Importing Part of the Numpy Module\n",
        "This is a variation of the above, where we only import part of the numpy module (i.e. the part that we're interested in). For example:\n",
        "\n",
        "<code>\n",
        "    from numpy import array\n",
        "</code>\n",
        "\n",
        "We can then initialize an array using:\n",
        "\n",
        "<code>\n",
        "    A = array([1, 2, 3])\n",
        "</code>\n",
        "\n",
        "### 2.5 Imports for this Notebook\n",
        "In this case, we will import numpy and give it a convenient name, which tends to be the default standard. The reason for this is that it lets us avoid clashes in the namespace (for example, say I wanted to write my own array class, that clashed with numpy's array class; better to keep things isolated, and use polymorphism to deal with such cases)."
      ]
    },
    {
      "cell_type": "code",
      "metadata": {
        "id": "pe8NCzjcTrQm",
        "colab_type": "code",
        "colab": {}
      },
      "source": [
        "import numpy as np"
      ],
      "execution_count": 0,
      "outputs": []
    },
    {
      "cell_type": "markdown",
      "metadata": {
        "id": "WFRn3twoTrQ7",
        "colab_type": "text"
      },
      "source": [
        "## 3. Working With Numpy\n",
        "\n",
        "### 3.1 Creating Arrays\n",
        "Numpy arrays are not lists, though they do have some of the benefits of lists that a standard array (in C, for example) wouldn't have, such as dynamic sizing. Arrays are typically blocks of allocated memory with a fixed size, that allow you to do matrix operations. Numpy does allow you to append and pop items from the array, though this is done by re-allocating memory, and is typically inefficient. Arrays have their own properties that you can set and access in order to improve the speed of your code, or during debugging. For example:"
      ]
    },
    {
      "cell_type": "code",
      "metadata": {
        "id": "SVzR9JOwTrQ9",
        "colab_type": "code",
        "outputId": "648cd5c3-606d-4659-b0f9-6c4f618aff4a",
        "colab": {
          "base_uri": "https://localhost:8080/",
          "height": 629
        }
      },
      "source": [
        "# initialize an array manually using a list\n",
        "A = np.array([1, 2, 3])\n",
        "print(A)\n",
        "print(A.shape)\n",
        "print(A.dtype)\n",
        "print()\n",
        "\n",
        "# create a zero array\n",
        "B = np.zeros((3,3))\n",
        "print(B)\n",
        "print(B.shape)\n",
        "print(B.dtype)\n",
        "print()\n",
        "\n",
        "# create a vector of values in the interval [0, 1]\n",
        "C = np.linspace(0, 1, 10)\n",
        "print(C)\n",
        "print(C.shape)\n",
        "print(C.dtype)\n",
        "print()\n",
        "\n",
        "D = np.array([[1, 2, 3], [4, 5, 6]])\n",
        "print(D)\n",
        "print(D.shape)\n",
        "print(D.dtype)\n",
        "print()\n",
        "\n",
        "# create a zeros_like vector\n",
        "E = np.zeros_like(D)\n",
        "print(E)\n",
        "print(E.shape)\n",
        "print(E.dtype)\n",
        "print()\n",
        "\n",
        "F = np.ones((2,2))\n",
        "print(F)\n",
        "print(F.shape)\n",
        "print(F.dtype)\n",
        "print()\n",
        "\n",
        "G = np.random.rand(2,3)\n",
        "H = 3 * np.ones_like(G)\n",
        "I = G + H\n",
        "print(G)\n",
        "print(H)\n",
        "print(I)"
      ],
      "execution_count": 0,
      "outputs": [
        {
          "output_type": "stream",
          "text": [
            "[1 2 3]\n",
            "(3,)\n",
            "int64\n",
            "\n",
            "[[0. 0. 0.]\n",
            " [0. 0. 0.]\n",
            " [0. 0. 0.]]\n",
            "(3, 3)\n",
            "float64\n",
            "\n",
            "[0.         0.11111111 0.22222222 0.33333333 0.44444444 0.55555556\n",
            " 0.66666667 0.77777778 0.88888889 1.        ]\n",
            "(10,)\n",
            "float64\n",
            "\n",
            "[[1 2 3]\n",
            " [4 5 6]]\n",
            "(2, 3)\n",
            "int64\n",
            "\n",
            "[[0 0 0]\n",
            " [0 0 0]]\n",
            "(2, 3)\n",
            "int64\n",
            "\n",
            "[[1. 1.]\n",
            " [1. 1.]]\n",
            "(2, 2)\n",
            "float64\n",
            "\n",
            "[[0.79000664 0.96989697 0.63074896]\n",
            " [0.68078336 0.35964079 0.78309619]]\n",
            "[[3. 3. 3.]\n",
            " [3. 3. 3.]]\n",
            "[[3.79000664 3.96989697 3.63074896]\n",
            " [3.68078336 3.35964079 3.78309619]]\n"
          ],
          "name": "stdout"
        }
      ]
    },
    {
      "cell_type": "markdown",
      "metadata": {
        "id": "kFnAN78GTrRL",
        "colab_type": "text"
      },
      "source": [
        "There are many different ways of initializing arrays in numpy, and which one you use will depend on the task you are working on. The above are just some basic methods that are commonly used.\n",
        "\n",
        "### 3.1 Slicing Arrays\n",
        "Being able to slice arrays is essential to working effectively in numpy. Slicing uses a start:stop:step format, and can be used to \"chunk\" indices. For example, you can think of the following:\n",
        "\n",
        "<code>\n",
        "    A[:,1]\n",
        "</code>\n",
        "\n",
        "As \"all rows of the first column of A\". For another example:\n",
        "\n",
        "<code>\n",
        "    A[:3]\n",
        "</code>\n",
        "\n",
        "Can be thought of as \"all elements from the beginning up to the third\". And:\n",
        "\n",
        "<code>\n",
        "    A[3:]\n",
        "</code>\n",
        "\n",
        "Is \"all elements from the 3rd until the end\".\n",
        "\n",
        "In the following cell, we'll go through some simple slicing exercises:"
      ]
    },
    {
      "cell_type": "code",
      "metadata": {
        "id": "JRRfKZiPTrRP",
        "colab_type": "code",
        "outputId": "aea008fb-126e-45ae-91d9-c7bf9da1706c",
        "colab": {
          "base_uri": "https://localhost:8080/",
          "height": 408
        }
      },
      "source": [
        "A = np.random.randn(5)\n",
        "print(A)\n",
        "print()\n",
        "\n",
        "# start:stop:step\n",
        "# print every second element\n",
        "print(A[::2])\n",
        "print()\n",
        "\n",
        "# reverse the array\n",
        "print(A[::-1])\n",
        "print()\n",
        "\n",
        "# all elements up to the 3rd\n",
        "print(A[:3])\n",
        "print()\n",
        "\n",
        "# all elements from the 2nd onwards\n",
        "print(A[2:])\n",
        "print()\n",
        "\n",
        "B = np.array([[1, 2, 3],\n",
        "              [4, 5, 6],\n",
        "              [7, 8, 9]])\n",
        "print(B)\n",
        "print()\n",
        "print(B[:,1])\n",
        "print(B[1,:])\n",
        "print(B[:,2])\n",
        "print(B[:2,2])\n",
        "print(B[0,0])\n",
        "print(np.array([B[2,0], B[0, 2]]))\n",
        "print(B[:,:2])"
      ],
      "execution_count": 0,
      "outputs": [
        {
          "output_type": "stream",
          "text": [
            "[ 1.87741041 -0.08256372 -2.29388298 -0.07855549 -0.39396762]\n",
            "\n",
            "[ 1.87741041 -2.29388298 -0.39396762]\n",
            "\n",
            "[-0.39396762 -0.07855549 -2.29388298 -0.08256372  1.87741041]\n",
            "\n",
            "[ 1.87741041 -0.08256372 -2.29388298]\n",
            "\n",
            "[-2.29388298 -0.07855549 -0.39396762]\n",
            "\n",
            "[[1 2 3]\n",
            " [4 5 6]\n",
            " [7 8 9]]\n",
            "\n",
            "[2 5 8]\n",
            "[4 5 6]\n",
            "[3 6 9]\n",
            "[3 6]\n",
            "1\n",
            "[7 3]\n",
            "[[1 2]\n",
            " [4 5]\n",
            " [7 8]]\n"
          ],
          "name": "stdout"
        }
      ]
    },
    {
      "cell_type": "markdown",
      "metadata": {
        "id": "PFTjxFAFTrRZ",
        "colab_type": "text"
      },
      "source": [
        "If we wanted to loop through a 1D array in reverse, and print every second element, how might we do this?"
      ]
    },
    {
      "cell_type": "code",
      "metadata": {
        "id": "pFIVRBhsTrRa",
        "colab_type": "code",
        "outputId": "16a904c3-0971-42b6-c0b9-5c951117747a",
        "colab": {
          "base_uri": "https://localhost:8080/",
          "height": 68
        }
      },
      "source": [
        "# answer here\n",
        "C = np.linspace(0, 1, 5)\n",
        "print(C)\n",
        "print(C[::-1])\n",
        "print(C[::-2])"
      ],
      "execution_count": 0,
      "outputs": [
        {
          "output_type": "stream",
          "text": [
            "[0.   0.25 0.5  0.75 1.  ]\n",
            "[1.   0.75 0.5  0.25 0.  ]\n",
            "[1.  0.5 0. ]\n"
          ],
          "name": "stdout"
        }
      ]
    },
    {
      "cell_type": "markdown",
      "metadata": {
        "id": "Uxtl60hvTrRh",
        "colab_type": "text"
      },
      "source": [
        "### 3.2 Logical Operators\n",
        "We can also do logical operations on arrays in numpy. For example, say we wanted to generate a mask that zeros out elements below a certain value:"
      ]
    },
    {
      "cell_type": "code",
      "metadata": {
        "id": "IzQFpZonTrRi",
        "colab_type": "code",
        "outputId": "d5658802-97b5-4c9d-e64f-1311c4adc106",
        "colab": {
          "base_uri": "https://localhost:8080/",
          "height": 272
        }
      },
      "source": [
        "A = np.array([[1, 2, 3],\n",
        "              [4, 5, 6],\n",
        "              [7, 8, 9]])\n",
        "M = A >= 5\n",
        "\n",
        "print(A)\n",
        "print()\n",
        "print(M)\n",
        "print()\n",
        "print(A * M)\n",
        "print()\n",
        "print((A < 2) | (A > 7))"
      ],
      "execution_count": 0,
      "outputs": [
        {
          "output_type": "stream",
          "text": [
            "[[1 2 3]\n",
            " [4 5 6]\n",
            " [7 8 9]]\n",
            "\n",
            "[[False False False]\n",
            " [False  True  True]\n",
            " [ True  True  True]]\n",
            "\n",
            "[[0 0 0]\n",
            " [0 5 6]\n",
            " [7 8 9]]\n",
            "\n",
            "[[ True False False]\n",
            " [False False False]\n",
            " [False  True  True]]\n"
          ],
          "name": "stdout"
        }
      ]
    },
    {
      "cell_type": "markdown",
      "metadata": {
        "id": "m_yK6WY6TrRo",
        "colab_type": "text"
      },
      "source": [
        "Now let's say we want to generate a boolean mask for every third element of a 1D array, that checks if that element is less than 0.5. How might we do this?"
      ]
    },
    {
      "cell_type": "code",
      "metadata": {
        "id": "VLMk8flSTrRp",
        "colab_type": "code",
        "outputId": "1cd91bbf-26db-4ab0-8ed6-3a4c5a456973",
        "colab": {
          "base_uri": "https://localhost:8080/",
          "height": 153
        }
      },
      "source": [
        "# answer here\n",
        "C = np.random.rand(10)\n",
        "print(C)\n",
        "print(C.shape)\n",
        "print()\n",
        "\n",
        "D = C[::3]\n",
        "print(D)\n",
        "print(D.shape)\n",
        "E = D < 0.5\n",
        "print(E)\n",
        "\n",
        "F = C[::3] < 0.5\n",
        "print(F)"
      ],
      "execution_count": 0,
      "outputs": [
        {
          "output_type": "stream",
          "text": [
            "[0.39457544 0.18971152 0.01250524 0.80136831 0.91906599 0.84281656\n",
            " 0.82547415 0.32543318 0.85086716 0.3698522 ]\n",
            "(10,)\n",
            "\n",
            "[0.39457544 0.80136831 0.82547415 0.3698522 ]\n",
            "(4,)\n",
            "[ True False False  True]\n",
            "[ True False False  True]\n"
          ],
          "name": "stdout"
        }
      ]
    },
    {
      "cell_type": "markdown",
      "metadata": {
        "id": "RDjNO3icTrRz",
        "colab_type": "text"
      },
      "source": [
        "### 3.2 Vectorized Programming\n",
        "One of the advantages of using numpy is that it lets you leverage multiprocessing. For example, say we have the following array:\n",
        "\n",
        "$A = \\begin{bmatrix}\n",
        "        a & b & c \\\\\n",
        "        d & e & f \\\\\n",
        "        g & h & i\n",
        "     \\end{bmatrix}$\n",
        "\n",
        "And we wanted to take the $sin$ of each element. A naive implementation would be to loop through each row and column of the matrix, which is shown below:"
      ]
    },
    {
      "cell_type": "code",
      "metadata": {
        "id": "S1h-wpcfTrR0",
        "colab_type": "code",
        "outputId": "2b3180fb-89e7-40db-d068-8510086b9dde",
        "colab": {
          "base_uri": "https://localhost:8080/",
          "height": 136
        }
      },
      "source": [
        "from math import sin\n",
        "\n",
        "A = np.random.rand(3, 3)\n",
        "print(A)\n",
        "print()\n",
        "\n",
        "B = A.copy()\n",
        "for i in range(3):\n",
        "    for j in range(3):\n",
        "        B[i, j] = sin(A[i, j])\n",
        "print(B)"
      ],
      "execution_count": 0,
      "outputs": [
        {
          "output_type": "stream",
          "text": [
            "[[0.95947367 0.53841137 0.07079293]\n",
            " [0.43570361 0.49185687 0.67862567]\n",
            " [0.79444554 0.77276144 0.56934411]]\n",
            "\n",
            "[[0.81888959 0.51277276 0.07073381]\n",
            " [0.42204838 0.47226345 0.62772379]\n",
            " [0.71347521 0.69811505 0.53907974]]\n"
          ],
          "name": "stdout"
        }
      ]
    },
    {
      "cell_type": "markdown",
      "metadata": {
        "id": "4vbPs7GmTrSB",
        "colab_type": "text"
      },
      "source": [
        "A much cleaner and faster method is:"
      ]
    },
    {
      "cell_type": "code",
      "metadata": {
        "id": "_w7KokXMTrSC",
        "colab_type": "code",
        "outputId": "1d296e43-5d82-4050-f980-c19e52dd400e",
        "colab": {
          "base_uri": "https://localhost:8080/",
          "height": 68
        }
      },
      "source": [
        "C = A.copy()\n",
        "C = np.sin(C)\n",
        "print(C)\n",
        "\n",
        "k = 0.5\n",
        "A = np.array([1, 2, 3])\n",
        "B = np.array([4, 5, 6])\n",
        "C = np.zeros((3,))\n",
        "# k * A * B^2\n",
        "for i in range(3):\n",
        "  C[i] = k * A[i] * B[i] ** 2\n",
        "\n",
        "D = k * A * B ** 2\n",
        "print(C)\n",
        "print(D)"
      ],
      "execution_count": 0,
      "outputs": [
        {
          "output_type": "stream",
          "text": [
            "[0.84147098 0.90929743 0.14112001]\n",
            "[ 8. 25. 54.]\n",
            "[ 8. 25. 54.]\n"
          ],
          "name": "stdout"
        }
      ]
    },
    {
      "cell_type": "markdown",
      "metadata": {
        "id": "rFwhyD9zTrST",
        "colab_type": "text"
      },
      "source": [
        "Similarly, lets say we wanted to square all elements of a matrix. How would we do this if we didn't want to loop through it?"
      ]
    },
    {
      "cell_type": "code",
      "metadata": {
        "id": "LHfnxJyNTrSV",
        "colab_type": "code",
        "outputId": "79e19102-aff2-4475-8a7e-35396feb7aa9",
        "colab": {
          "base_uri": "https://localhost:8080/",
          "height": 51
        }
      },
      "source": [
        "# answer here\n",
        "A = np.array([[2, 4],\n",
        "              [6, 8]])\n",
        "print(A ** 2)"
      ],
      "execution_count": 0,
      "outputs": [
        {
          "output_type": "stream",
          "text": [
            "[[ 4 16]\n",
            " [36 64]]\n"
          ],
          "name": "stdout"
        }
      ]
    },
    {
      "cell_type": "markdown",
      "metadata": {
        "id": "Ly68IWmdTrSf",
        "colab_type": "text"
      },
      "source": [
        "### 3.3 Generating Random Numbers\n",
        "This is an important task, since it lets you test routines, and generate dummy data. Numpy has multiple routines available for generating random values drawn from different types of distribution:\n",
        "\n",
        "1. numpy.random.rand() draws values uniformly from [0,1];\n",
        "2. numpy.random.randn() draws values from a unit normal distribution (i.e. mean 0, standard deviation 1);\n",
        "3. numpy.random.uniform(a, b) draws values uniformly from the interval [a,b].\n",
        "\n",
        "In the following cell, we will draw 1000 values from a normal distribution."
      ]
    },
    {
      "cell_type": "code",
      "metadata": {
        "id": "KjEGoREZTrSh",
        "colab_type": "code",
        "outputId": "8cb93b08-1f5f-47f2-8d35-3680cbb9361f",
        "colab": {
          "base_uri": "https://localhost:8080/",
          "height": 282
        }
      },
      "source": [
        "import matplotlib.pyplot as plt\n",
        "\n",
        "# answer here\n",
        "k = np.random.randn(10000)\n",
        "print(k.shape)\n",
        "\n",
        "plt.figure()\n",
        "plt.hist(k, bins=1000)\n",
        "plt.show()"
      ],
      "execution_count": 0,
      "outputs": [
        {
          "output_type": "stream",
          "text": [
            "(10000,)\n"
          ],
          "name": "stdout"
        },
        {
          "output_type": "display_data",
          "data": {
            "image/png": "[encoded data removed]",
            "text/plain": [
              "<Figure size 432x288 with 1 Axes>"
            ]
          },
          "metadata": {
            "tags": []
          }
        }
      ]
    },
    {
      "cell_type": "markdown",
      "metadata": {
        "id": "E4gY3jcMTrSt",
        "colab_type": "text"
      },
      "source": [
        "### 3.4 Matrix Multiplication and Element-wise Multiplication\n",
        "One key point to note: \n",
        "\n",
        "$AB \\neq \\begin{bmatrix}\n",
        "        a_{1,1}b_{1,1} & a_{1,2}b_{1,2} & a_{1,3}b_{1,3} & ... & a_{1,n}b_{1,n} \\\\\n",
        "        a_{2,1}b_{2,1} & a_{2,2}b_{2,2} & a_{2,3}b & ... & a_{2,n}b_{2,n} \\\\\n",
        "        a_{3,1}b_{3,1} & a_{3,2}b_{3,2} & a_{3,3}b_{3,3} & ... & a_{3,n}b_{3,n} \\\\\n",
        "        ... & ... & ... & ... & ... \\\\\n",
        "        a_{m,1}b_{m,1} & a_{m,2}b_{m,2} & a_{m,3}b_{m,3} & ... & a_{m,n}b_{m,n} \\\\\n",
        "        \\end{bmatrix}$\n",
        "\n",
        "There's a difference between matrix multiplication, and element-wise multiplication. The above operation is element-wise multiplication, whereas matrix multiplication is:\n",
        "\n",
        "$AB = \\begin{bmatrix}\n",
        "        (a_{1,1}b_{1,1} + a_{1,2}b_{2,1} + ... + a_{1,n}b_{m,1})& ... & ... & ... & (a_{1,1}b_{1,n} + a_{1,2}b_{2,n} + ... + a_{1,n}b_{m,n}) \\\\\n",
        "       ... & ... & ... & ... & ... \\\\\n",
        "        ... & ... & ... & ... & ... \\\\\n",
        "        ... & ... & ... & ... & ... \\\\\n",
        "        (a_{m,1}b_{1,1} + a_{m,2}b_{2,1} + ... + a_{m,n}b_{m,1})& ... & ... & ... & (a_{m,1}b_{1,n} + a_{m,2}b_{2,n} + ... + a_{m,n}b_{m,n}) \\\\\n",
        "        \\end{bmatrix}$\n",
        "        \n",
        "In GIF form:\n",
        "\n",
        "![matmul](https://upload.wikimedia.org/wikipedia/commons/8/86/Matrix_multiplication_.gif)\n",
        "\n",
        "So how do we differentiate between these in numpy? Well:\n",
        "\n",
        "<code>\n",
        "    A*B = C\n",
        "</code>\n",
        "\n",
        "Gives us element-wise multiplication.\n",
        "\n",
        "<code>\n",
        "    A.dot(B) = C\n",
        "</code>\n",
        "\n",
        "Gives us matrix multiplication. One thing to be aware of is that for matrix multiplication, you need to line up the rows and columns of your matrices. I.e. if $A$ is a $3\\times 3$ matrix, and $B$ is a $2\\times 3$ matrix, you can only multiply them as $BA$ -- which gives you a $2\\times 3$ matrix -- or $AB^T$ -- which gives you a $3 \\times 2$ matrix. \n",
        "\n",
        "In the following cell, we will do demonstrate the difference between the two:"
      ]
    },
    {
      "cell_type": "code",
      "metadata": {
        "id": "oN7faVtaTrSv",
        "colab_type": "code",
        "outputId": "be2210d3-778c-4a50-8dca-6e140fdb33ec",
        "colab": {
          "base_uri": "https://localhost:8080/",
          "height": 289
        }
      },
      "source": [
        "# hadamard product\n",
        "A = np.random.rand(3,2)\n",
        "B = np.random.rand(3,2)\n",
        "print(A)\n",
        "print()\n",
        "print(B)\n",
        "print()\n",
        "print(A*B)\n",
        "print()\n",
        "print()\n",
        "\n",
        "# matrix product\n",
        "C = A.T.dot(B)\n",
        "print(C)\n",
        "print(C.shape)"
      ],
      "execution_count": 0,
      "outputs": [
        {
          "output_type": "stream",
          "text": [
            "[[0.51363457 0.63372768]\n",
            " [0.78021857 0.64063972]\n",
            " [0.46434059 0.90793982]]\n",
            "\n",
            "[[0.56375182 0.16105959]\n",
            " [0.94597499 0.15296558]\n",
            " [0.98809939 0.59468786]]\n",
            "\n",
            "[[0.28956242 0.10206792]\n",
            " [0.73806725 0.09799582]\n",
            " [0.45881465 0.53994079]]\n",
            "\n",
            "\n",
            "[[1.48644433 0.47821007]\n",
            " [1.86042907 0.74000453]]\n",
            "(2, 2)\n"
          ],
          "name": "stdout"
        }
      ]
    },
    {
      "cell_type": "markdown",
      "metadata": {
        "id": "wggdYvEeTrS2",
        "colab_type": "text"
      },
      "source": [
        "### 3.5 Linear Algebra Operations\n",
        "Sometimes you may find it necessary to do certain operations on matrices. For example, you may want to *normalize* your data, which ensures that your data will sum to $1$. The numpy.linalg package is designed to cover common linear algebra operations, such as finding the normalized value, or doing matrix inversion. These operations are very handy, since they let you solve simple systems of equations. For example, say you have:\n",
        "\n",
        "$Ax = b$\n",
        "\n",
        "Then you can solve for $x$ using:\n",
        "\n",
        "$x = A^{-1}b$\n",
        "\n",
        "Where:\n",
        "\n",
        "$AA^{-1} = I$\n",
        "\n",
        "Where $I$ is the **identity matrix**:\n",
        "\n",
        "$I = \\begin{bmatrix}\n",
        "        1 & 0 & 0 & ... & 0 \\\\\n",
        "        0 & 1 & 0 & ... & 0 \\\\\n",
        "        0 & 0 & 1 & ... & 0 \\\\\n",
        "        ... & ... & ... & ... & ... \\\\\n",
        "        0 & 0 & 0 & ... & 1 \\\\\n",
        "        \\end{bmatrix}$\n",
        "        \n",
        "$AI = IA = A$\n",
        "\n",
        "In the following cell, we'll normalize a vector, and invert a matrix:"
      ]
    },
    {
      "cell_type": "code",
      "metadata": {
        "id": "yCrFU13RTrS3",
        "colab_type": "code",
        "outputId": "75470099-ba82-4da3-cd81-1aea29294d14",
        "colab": {
          "base_uri": "https://localhost:8080/",
          "height": 238
        }
      },
      "source": [
        "# normalize vector\n",
        "A = np.array([1, 2, 3])\n",
        "mag = np.linalg.norm(A)\n",
        "print(A)\n",
        "print(mag)\n",
        "print(np.sqrt(A.T.dot(A)))\n",
        "B = A/mag\n",
        "print(B)\n",
        "print(np.sum(B**2))\n",
        "print()\n",
        "\n",
        "# invert a matrix\n",
        "C = np.random.rand(3,3)\n",
        "D = np.linalg.inv(C)\n",
        "print(C)\n",
        "print()\n",
        "print(D)"
      ],
      "execution_count": 0,
      "outputs": [
        {
          "output_type": "stream",
          "text": [
            "[1 2 3]\n",
            "3.7416573867739413\n",
            "3.7416573867739413\n",
            "[0.26726124 0.53452248 0.80178373]\n",
            "1.0\n",
            "\n",
            "[[0.11881595 0.18645982 0.75574834]\n",
            " [0.83079985 0.80068132 0.06946978]\n",
            " [0.10846383 0.32628892 0.18571591]]\n",
            "\n",
            "[[ 0.99358235  1.67103093 -4.66833638]\n",
            " [-1.15697523 -0.47226798  4.88482888]\n",
            " [ 1.45243584 -0.14619432 -0.47125678]]\n"
          ],
          "name": "stdout"
        }
      ]
    },
    {
      "cell_type": "markdown",
      "metadata": {
        "id": "GyCgBFOZTrS9",
        "colab_type": "text"
      },
      "source": [
        "Note that in general, not every matrix is invertible. Only square matrices are invertible, and the determinant must be non-zero, though there are tricks for getting around these requirements if you need to.\n",
        "\n",
        "### 3.4 Generating a Dummy Dataset\n",
        "Sometimes we want to generate a dummy dataset in order to test an idea or an algorithm. This is a very simple and quick way of testing if your regression technique is working, for example. Dummy data is usually noisy, and takes the form $y = f(x) + \\sigma \\epsilon$, where $\\epsilon \\sim \\mathcal{N}(0, 1)$. As a quick demonstration:"
      ]
    },
    {
      "cell_type": "code",
      "metadata": {
        "id": "0b66fE7xwJrA",
        "colab_type": "code",
        "colab": {}
      },
      "source": [
        ""
      ],
      "execution_count": 0,
      "outputs": []
    },
    {
      "cell_type": "code",
      "metadata": {
        "id": "mGRcW-EZTrS-",
        "colab_type": "code",
        "outputId": "ced038bd-8ec5-4989-9ec8-09f4ab4b9333",
        "colab": {}
      },
      "source": [
        "def f(x):\n",
        "    return x**3 + 0.1/x\n",
        "\n",
        "def g(x, sigma=1):\n",
        "    eps = np.random.randn(x.shape[0])\n",
        "    return f(x) + sigma * eps\n",
        "\n",
        "x = np.linspace(0.01, 1, 100)\n",
        "y = f(x)\n",
        "noisy_y = g(x)\n",
        "plt.figure()\n",
        "plt.plot(x, y, \"-r\")\n",
        "plt.scatter(x, noisy_y)\n",
        "plt.legend([\"original function\", \"with noise\"])\n",
        "plt.show()"
      ],
      "execution_count": 0,
      "outputs": [
        {
          "output_type": "display_data",
          "data": {
            "image/png": "[encoded data removed]",
            "text/plain": [
              "<Figure size 432x288 with 1 Axes>"
            ]
          },
          "metadata": {
            "tags": []
          }
        }
      ]
    },
    {
      "cell_type": "markdown",
      "metadata": {
        "id": "GF7ll8-KTrTF",
        "colab_type": "text"
      },
      "source": [
        "## 4. Exercises\n",
        "\n",
        "1. Initialize a numpy array called $A$ with 1000 elements, in the range $[0, 1]$;\n",
        "2. Print out the shape and datatype of $A$;\n",
        "3. Reshape $A$ to size (1, 1000), and print out the new shape;\n",
        "4. Transpose $A$, and print out the new shape;\n",
        "5. Create an array $B$ that is 1 when $A \\geq 0.5$, and 0 otherwise;\n",
        "6. Create a 3x3 random array $C$;\n",
        "7. Invert $C$ to get $C^{-1}$;\n",
        "8. Calculate and print $CC^{-1}$ using numpy's dot function;\n",
        "9. Initialize a numpy array called $D$ with 1000 elements, in the range $[-1, 1]$;\n",
        "10. Create a function that returns $x^{0.5} + 1 + \\sigma\\epsilon$, where $\\epsilon$ is a random, **normally distributed** value. Pass $D$ to this function, and plot the result. $\\epsilon$ should be a different value for each element of $D$, and $\\sigma = 0.1$. "
      ]
    },
    {
      "cell_type": "code",
      "metadata": {
        "id": "5fkODS5vTrTF",
        "colab_type": "code",
        "outputId": "b9bbdd89-9555-4442-bbd5-f24e8ad40fb3",
        "colab": {
          "base_uri": "https://localhost:8080/",
          "height": 532
        }
      },
      "source": [
        "# com.example.rodolfoarguello\n",
        "\n",
        "# 1. Initialize a numpy array called A with 1000 elements, in the range [0, 1];\n",
        "A = np.random.rand(1000)\n",
        "\n",
        "# 2. Print out the shape and datatype of A;\n",
        "print(A.shape)\n",
        "print(A.dtype)\n",
        "\n",
        "# 3. Reshape A to size (1, 1000), and print out the new shape;\n",
        "A = np.random.randn(1, 1000)\n",
        "print(A.shape)\n",
        "\n",
        "# 4. Transpose A, and print out the new shape;\n",
        "A = np.transpose(A)\n",
        "print(A.shape)\n",
        "\n",
        "# 5. Create an array B that is 1 when A ≥ 0.5, and 0 otherwise;\n",
        "B = np.where(A >= 0.5, 1, 0)\n",
        "\n",
        "# 6. Create a 3x3 random array C;\n",
        "C = np.random.rand(3, 3)\n",
        "\n",
        "# 7. Invert C to get C-1;\n",
        "C = np.transpose(C)\n",
        "\n",
        "# 8. Calculate and print C * C-1 using numpy's dot function;\n",
        "print(np.dot(np.transpose(C),C))\n",
        "\n",
        "# 9. Initialize a numpy array called D with 1000 elements, in the range [-1, 1];\n",
        "D = np.random.uniform(-1, 1, 1000)\n",
        "\n",
        "# 10. Create a function that returns  𝑥0.5+1+𝜎𝜖 , where  𝜖  is a random, normally distributed value. Pass  𝐷  to this function, and plot the result.  𝜖  should be a different value for each element of  𝐷 , and  𝜎=0.1 .\n",
        "def calculation(x):\n",
        "  e = e if np.random.randn(1) not in x\n",
        "  print(pow(x, 0.5) + 1 + 0.1(e))\n",
        "\n",
        "calculation(D)\n",
        "  \n",
        "\n",
        "\n",
        "\n",
        "\n"
      ],
      "execution_count": 0,
      "outputs": [
        {
          "output_type": "stream",
          "text": [
            "(1000,)\n",
            "float64\n",
            "(1, 1000)\n",
            "(1000, 1)\n",
            "[[1.26597299 0.81545881 1.11763163]\n",
            " [0.81545881 1.13939322 0.89411636]\n",
            " [1.11763163 0.89411636 1.03698728]]\n"
          ],
          "name": "stdout"
        },
        {
          "output_type": "stream",
          "text": [
            "/usr/local/lib/python3.6/dist-packages/ipykernel_launcher.py:37: RuntimeWarning: invalid value encountered in sqrt\n"
          ],
          "name": "stderr"
        },
        {
          "output_type": "error",
          "ename": "TypeError",
          "evalue": "ignored",
          "traceback": [
            "\u001b[0;31m---------------------------------------------------------------------------\u001b[0m",
            "\u001b[0;31mTypeError\u001b[0m                                 Traceback (most recent call last)",
            "\u001b[0;32m<ipython-input-29-e3a8d53feb75>\u001b[0m in \u001b[0;36m<module>\u001b[0;34m()\u001b[0m\n\u001b[1;32m     37\u001b[0m   \u001b[0mprint\u001b[0m\u001b[0;34m(\u001b[0m\u001b[0mpow\u001b[0m\u001b[0;34m(\u001b[0m\u001b[0mx\u001b[0m\u001b[0;34m,\u001b[0m \u001b[0;36m0.5\u001b[0m\u001b[0;34m)\u001b[0m \u001b[0;34m+\u001b[0m \u001b[0;36m1\u001b[0m \u001b[0;34m+\u001b[0m \u001b[0;36m0.1\u001b[0m\u001b[0;34m(\u001b[0m\u001b[0me\u001b[0m\u001b[0;34m)\u001b[0m\u001b[0;34m)\u001b[0m\u001b[0;34m\u001b[0m\u001b[0;34m\u001b[0m\u001b[0m\n\u001b[1;32m     38\u001b[0m \u001b[0;34m\u001b[0m\u001b[0m\n\u001b[0;32m---> 39\u001b[0;31m \u001b[0mcalculation\u001b[0m\u001b[0;34m(\u001b[0m\u001b[0mD\u001b[0m\u001b[0;34m)\u001b[0m\u001b[0;34m\u001b[0m\u001b[0;34m\u001b[0m\u001b[0m\n\u001b[0m\u001b[1;32m     40\u001b[0m \u001b[0;34m\u001b[0m\u001b[0m\n\u001b[1;32m     41\u001b[0m \u001b[0;34m\u001b[0m\u001b[0m\n",
            "\u001b[0;32m<ipython-input-29-e3a8d53feb75>\u001b[0m in \u001b[0;36mcalculation\u001b[0;34m(x)\u001b[0m\n\u001b[1;32m     35\u001b[0m       \u001b[0me\u001b[0m \u001b[0;34m=\u001b[0m \u001b[0mi\u001b[0m\u001b[0;34m\u001b[0m\u001b[0;34m\u001b[0m\u001b[0m\n\u001b[1;32m     36\u001b[0m \u001b[0;34m\u001b[0m\u001b[0m\n\u001b[0;32m---> 37\u001b[0;31m   \u001b[0mprint\u001b[0m\u001b[0;34m(\u001b[0m\u001b[0mpow\u001b[0m\u001b[0;34m(\u001b[0m\u001b[0mx\u001b[0m\u001b[0;34m,\u001b[0m \u001b[0;36m0.5\u001b[0m\u001b[0;34m)\u001b[0m \u001b[0;34m+\u001b[0m \u001b[0;36m1\u001b[0m \u001b[0;34m+\u001b[0m \u001b[0;36m0.1\u001b[0m\u001b[0;34m(\u001b[0m\u001b[0me\u001b[0m\u001b[0;34m)\u001b[0m\u001b[0;34m)\u001b[0m\u001b[0;34m\u001b[0m\u001b[0;34m\u001b[0m\u001b[0m\n\u001b[0m\u001b[1;32m     38\u001b[0m \u001b[0;34m\u001b[0m\u001b[0m\n\u001b[1;32m     39\u001b[0m \u001b[0mcalculation\u001b[0m\u001b[0;34m(\u001b[0m\u001b[0mD\u001b[0m\u001b[0;34m)\u001b[0m\u001b[0;34m\u001b[0m\u001b[0;34m\u001b[0m\u001b[0m\n",
            "\u001b[0;31mTypeError\u001b[0m: 'float' object is not callable"
          ]
        },
        {
          "output_type": "stream",
          "text": [
            "ERROR! Session/line number was not unique in database. History logging moved to new session 64\n"
          ],
          "name": "stdout"
        }
      ]
    }
  ]
}